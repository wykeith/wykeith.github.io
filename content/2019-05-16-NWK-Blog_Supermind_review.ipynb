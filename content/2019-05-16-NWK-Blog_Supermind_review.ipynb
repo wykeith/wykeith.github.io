{
  "cells": [
    {
      "metadata": {},
      "cell_type": "markdown",
      "source": "[![Superminds by Thomas W Malone][coverimg]][nlblink]\n\nI just finished this book recently, and it sparked numerous ahha moments. Thus I highly recommend it for non-technical readers who are curious about AI and their impact on society. The author explains the concepts of superminds operating in society as a consequence of collective intelligence. He defines collective intelligence as the result of groups of individuals acting together in ways that seem intelligent or purposeful. This book teaches us how to recognise the characteristics of superminds and tap on their superpowers.\n\n[coverimg]: https://wykeith.github.io/images/superminds.jpg\n[nlblink]: https://catalogue.nlb.gov.sg/cgi-bin/spydus.exe/FULL/WPAC/BIBENQ/4014412/252276085,1"
    },
    {
      "metadata": {},
      "cell_type": "markdown",
      "source": "Basically There are 4 pure forms of superminds\n1. **Hierarchies** - where people with authority make decisions others are required to follow. Found in businesses, nonprofit groups, and the operational parts of governments.\n\n2. **Democracies** - where decisions are made by voting. Found in government, clubs, businesses and many other groups.\n\n3. **Markets** - where decisions are made by mutual agreement among trading partners. Found whereever people trade money, goods, and services.\n\n4. **Communities** - where decisions are made by informal consensus or shared norms. Found throughout human life, from local neighborhoods to professional groups to national cultures.\n\n<font color=grey>\nAnother hybrid form of supermind supermind which encompasses all the above as well as indivdiuals is an eco-system\n</font>\n5. **Ecosystem** where decisions are made based on who has the most power and the greatest ability to survive and reproduce. Found wherever there are no overall frameworks for cooperation, such as in the conflicts among the different types of superminds above."
    },
    {
      "metadata": {},
      "cell_type": "markdown",
      "source": "## Advantages & Disadvantages\n\n| Type of Supermind | Cost of Group Decision Making | Benefits of Group Decision Making | Distribution of Benefits |\n| --- | --- | --- | --- |\n| Hierarchy | Medium | High | Low |\n| Democracy | High | High | Medium |\n| Market | Medium +/- | Medium - | High |\n| Community | Medium | Medium | Medium |\n| Ecosystem | Low | Low | Low |\n\n* The minus sign in the medium +/- rating indicates that markets often have lower cost of decision making in large groups than other types (except ecosystem). Therefore as as information technologies continue to increase the size of groups that can make decisions together, it is very likely that markets will take over more of these decisions\n\n* Markets have \"medium minus\" benefits because participants in markets reap only one specific kind of benetfit from collective action: Buyers and sellers only trade with each other if they both think what they are getting is worth more to them than what they are giving up."
    },
    {
      "metadata": {},
      "cell_type": "markdown",
      "source": "The book also discusses how technology improves each types of superminds into becoming better, smarter\n\n## Some examples of a superminds in real life\n\n1. Our *Food production system* is a Market type of supermind. Previously in Hunting-Gathering communities , population growth was limited because we had to hunt, gather, prepare and cook our own food. Now we buy our food at stores and restaurant and outsourced most of the food preparation to a much larger supermind: the global market economy.\n\n> New information and transportation technology have increased our ability to take advantage economies of scale for food production and hence we have greatly increased the size of human groups , moving humans to the apex of the food chain\n\n2. Purely hierarchical governments, with leaders like kings and emperors. have been overseeing markets for many years, and they still continue to do so in some countries today (ie vatican). But many countries have established democracies that oversee their hierarchical governments. Hierarchical governments are important. For instance with their legal system and police powers, they can resolve problems when people dont fulfill their contracts. They can also help prevent sellers from lying about their products, and they can insist on health and safety standards\n\n> Technology have enabled cyber-human sensing, as sensors become more purvasive more and more things will be electronically sensed and recorded in future. China is already experimenting with something it calls a social credit system which keep track of financial behavior, such as whether people keep up with their insurance premiums, tax payments, and credit card bills. The system is also expected to include information about various kinds of social behavior ie cheating on subway fares, jaywalking, causing disturbance on airline flights and violating family-planning limits. All this data is used to compute various \"social credit\" ratings that will lead to all kinds of benefits and penalties"
    },
    {
      "metadata": {},
      "cell_type": "markdown",
      "source": "## How can we tap on superminds to solve problems\n\n1. Hyperspecialisation - \n    * Examples are Topcoder,Amazon Mechanical Turk (Division of Human Tasks) \n    * Tasks are sub-divded and passed to the best performing individual.\n2. Contest Web , Wisdom of Crowds - \n    * Climate Colab (solving climate issues)\n    * Crowdsourcing platforms where ideation is distributed\n3. Job/Demand Matching  - \n    * Monster.com, Ebay (selling goods)\n    * Supply and Demand are matched with efficiency.\n\n## Key features of technology enablers\n* dividing work in new ways\n* assigning task in new ways\n* coordinating interdependencies among tasks in new ways"
    },
    {
      "metadata": {},
      "cell_type": "markdown",
      "source": "# My Thoughts and Takeways\n\nAI is also Augmented Intelligence, eventually technology will takeaway certain jobs but it will also create others, better to recogise this and calibrate one's career path\n\n* People will do what machines can't\n* People will do more of the things that machines make cheaper to do.\n* People will do things just because we want people to do them\n\n> We should actively seek for opportunities to create cyber-human learning loops (this was my own masters dissertation topic 10 years ago!). Superminds that are made up of people and computers are be able to continuously improve their performance by learning from their own experiences extremely effectively. Superlearning can be achieved through superminds!"
    },
    {
      "metadata": {
        "trusted": true
      },
      "cell_type": "code",
      "source": "import time\nimport os\nos.environ[\"TZ\"]=\"Asia/Singapore\"\ntime.tzset()\ntime.ctime()",
      "execution_count": 1,
      "outputs": [
        {
          "output_type": "execute_result",
          "execution_count": 1,
          "data": {
            "text/plain": "'Sat May 18 11:54:41 2019'"
          },
          "metadata": {}
        }
      ]
    }
  ],
  "metadata": {
    "kernelspec": {
      "name": "python3",
      "display_name": "Python 3",
      "language": "python"
    },
    "language_info": {
      "mimetype": "text/x-python",
      "nbconvert_exporter": "python",
      "name": "python",
      "pygments_lexer": "ipython3",
      "version": "3.5.4",
      "file_extension": ".py",
      "codemirror_mode": {
        "version": 3,
        "name": "ipython"
      }
    }
  },
  "nbformat": 4,
  "nbformat_minor": 1
}