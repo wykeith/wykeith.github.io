{
 "cells": [
  {
   "cell_type": "markdown",
   "id": "4d8e1231",
   "metadata": {},
   "source": [
    "# A continuous habit of keeping logs and metrics.\n",
    "\n",
    "![Tracking](images/tracking.png)\n",
    "\n",
    "Some years ago, I was working a typical Ministry desk job. Double hatting as a project auditor as well as a consultant. Due to the inherent conflicting nature of the job, it was important for me to keep document my thinking process and keep a timesheet on various projects I worked on. This was to ensure neutrality such that conflicts of interest can be minimised, essentially I should not be evaluating related projects that I was consulting for. The genesis of this blog was also somewhat related to logging down my thinking. This useful discipline of keeping logging and metrics is important in various domains.\n",
    "\n",
    "An abundance of data has made logging and metrics much easier, for data analysis and health tracking. Logs and metrics for Devops work refers to application or network error messages and CPU/memory health monitors. While in MLops, logging and metrics are essential to ensure the proper training of AI models with the advent of agile practice, having a good logging system in place is critical in maximising improvement outcomes."
   ]
  }
 ],
 "metadata": {
  "kernelspec": {
   "display_name": "Python 3 (ipykernel)",
   "language": "python",
   "name": "python3"
  },
  "language_info": {
   "codemirror_mode": {
    "name": "ipython",
    "version": 3
   },
   "file_extension": ".py",
   "mimetype": "text/x-python",
   "name": "python",
   "nbconvert_exporter": "python",
   "pygments_lexer": "ipython3",
   "version": "3.7.12"
  }
 },
 "nbformat": 4,
 "nbformat_minor": 5
}
