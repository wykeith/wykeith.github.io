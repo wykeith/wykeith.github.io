{
  "cells": [
    {
      "metadata": {},
      "cell_type": "markdown",
      "source": "# Govtech Chinese New Year Code breaking challenge \n![Govtech Challenge][ad]\n\n## Govtech is running a coding challenge to give away some prizes\nDecided to give it a shot since I'm bored with CNY festivities in lala land.\nAnswer to the code is at the end of the post =), you can also\nsubmit your answer by 11:59 pm, February 8 here: https://bit.ly/2RUVNBG.\n\nDo give me credit (^.^)\n\n[ad]: https://wykeith.github.io/images/govtech_codechallenge.jpg"
    },
    {
      "metadata": {},
      "cell_type": "markdown",
      "source": "# Clues\n- The punctuations marks are unobfuscated\n- Exclamation mark at the end of sentence and period is at the end of a word\n- there are no capital letters, all are lowercase or punctuations\n- The encryption could be two ways, forward and backwards, assuming this is a symmetric-key encryption without the need for any key exchange process \n\nwe try to guess 'i' in the cyphertext which could be a single letter english word as well as other 2 letter and 3 letter words containing the letter 'i'\n\n1. i\n2. ip\n3. ivl\n4. gmiz\n5. pixxg\n\nFrequency analysis methods illustrated here as well https://www3.nd.edu/~busiforc/handouts/cryptography/cryptography%20hints.html\n\nOne-Letter English Words : a, I.\nSince it doesnt make sense to decapitalise a word , we map the letter a to i and try with the longer words"
    },
    {
      "metadata": {
        "trusted": false
      },
      "cell_type": "code",
      "source": "# Difference \nprint(\"The difference in alphatical order between a and i is {}\".format(ord('a')-ord('i')))\n\n# Add difference\nprint(\"Adding the differnce makes ip become {}{}!\".format(chr(ord('i')-8),chr(ord('p')-8)))\n\n# Try ivl\nprint(\"ivl become {}\".format(''.join([chr(ord(x)-8) for x in 'ivl'])))\n\nprint(\"\\nBingo!\")\n\n# Try the Year of Pixxg =p\nprint(\"Pixxg become {}\".format(''.join([chr(ord(x)-8) for x in 'pixxg'])))",
      "execution_count": 1,
      "outputs": [
        {
          "name": "stdout",
          "output_type": "stream",
          "text": "The difference in alphatical order between a and i is -8\nAdding the differnce makes ip become ah!\nivl become and\n\nBingo!\nPixxg become happ_\n"
        }
      ]
    },
    {
      "metadata": {},
      "cell_type": "markdown",
      "source": "# It appears that the letters will rotated back to the end z after reaching a\n# We write a function to make things easier to read"
    },
    {
      "metadata": {
        "trusted": false
      },
      "cell_type": "code",
      "source": "code = \"owdbmkp eqapma gwc i pixxg ivl xzwaxmzwca tcviz vme gmiz. pcib ip!\"",
      "execution_count": 2,
      "outputs": []
    },
    {
      "metadata": {
        "trusted": false
      },
      "cell_type": "code",
      "source": "from string import ascii_lowercase\nfrom collections import deque",
      "execution_count": 3,
      "outputs": []
    },
    {
      "metadata": {
        "trusted": false
      },
      "cell_type": "code",
      "source": "def unobfuscate(string='',rot=8):\n    s_deq = deque(ascii_lowercase)\n    s_deq.rotate(rot)\n    return ''.join([s_deq[ascii_lowercase.index(x)] if x in ascii_lowercase else x for x in string])",
      "execution_count": 4,
      "outputs": []
    },
    {
      "metadata": {
        "trusted": false
      },
      "cell_type": "code",
      "source": "unobfuscate(code)",
      "execution_count": 5,
      "outputs": [
        {
          "data": {
            "text/plain": "'govtech wishes you a happy and prosperous lunar new year. huat ah!'"
          },
          "execution_count": 5,
          "metadata": {},
          "output_type": "execute_result"
        }
      ]
    }
  ],
  "metadata": {
    "kernelspec": {
      "name": "python2",
      "display_name": "Python 2",
      "language": "python"
    },
    "language_info": {
      "mimetype": "text/x-python",
      "nbconvert_exporter": "python",
      "name": "python",
      "pygments_lexer": "ipython2",
      "version": "2.7.15",
      "file_extension": ".py",
      "codemirror_mode": {
        "version": 2,
        "name": "ipython"
      }
    }
  },
  "nbformat": 4,
  "nbformat_minor": 2
}