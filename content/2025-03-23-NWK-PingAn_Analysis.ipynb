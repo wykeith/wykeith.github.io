{
 "cells": [
  {
   "attachments": {
    "image.png": {
     "image/png": "[encoded data removed]"
    }
   },
   "cell_type": "markdown",
   "metadata": {},
   "source": [
    "## Ping An\n",
    "\n",
    "![image.png](attachment:image.png)\n",
    "\n",
    "Founded in 1988, Ping An Insurance is an integrated financial service provider headquartered in Shenzhen. The company has a focus on the offerings of healthcare services and integrated financial products. Ping An is China's second-largest life and P&C insurer. The company strives for an integrated financial services platform comprising life insurance, P&C insurance, banking, other financial services, and technology. The group is known for its \"finance + technology\" strategy, heavily investing in technological innovation to transform traditional financial services.\n",
    "\n",
    "| Sector                  | Financial Services       | Industry Classification | Insurance - Life     |\n",
    "|-------------------------|--------------------------|-------------------------|----------------------|\n",
    "| Product Type            | Main Board               | Sales                   | CNH 916.62 billion   |\n",
    "| Market Cap              | HKD 869.54 billion       | Net Income              | CNH 126.61 billion   |\n",
    "| Share Outstanding       | 18.21 billion            | Fiscal Year End         | 31 Dec 2025          |\n",
    "| 52 Weeks Range          | HKD 29.7000 - HKD 59.8000| Employees               | 288,751              |\n",
    "| 30 Days Average Volume  | 71.20 million            | Website                 | [https://www.pingan.cn](https://www.pingan.cn) |\n",
    "\n",
    "Reference [Financial Statement](pdfs/report-2024-pingan.pdf)"
   ]
  },
  {
   "cell_type": "markdown",
   "metadata": {
    "vscode": {
     "languageId": "raw"
    }
   },
   "source": [
    "<pre>\n",
    "Current stock price is 44.5 RMB\n",
    "\n",
    "EPS = Net profit attributable to shareholders / Total number of shares\n",
    "EPS = 126,607,000,000 / 18,851,578,188 = 6.72 RMB\n",
    "\n",
    "PE = Current Stock Price / EPS\n",
    "PE = 44.5 / 6.72 = 6.62\n",
    "\n",
    "Yield = (Dividend Per Share / Current Stock Price) × 100%\n",
    "Yield = (2.55 / 44.5) × 100% = 5.73%\n",
    "\n",
    "BVPS = Equity attributable to shareholders / Total number of shares\n",
    "BVPS = 928,600,000,000 / 18,851,578,188 = 49.26 RMB\n",
    "\n",
    "PB = Current Stock Price / BVPS\n",
    "PB = 44.5 / 49.26 = 0.90\n",
    "\n",
    "Therefore, at a stock price of 44.5 RMB, Ping An has:\n",
    "\n",
    "PE ratio: 6.62\n",
    "Dividend yield: 5.73%\n",
    "PB ratio: 0.90\n",
    "\n",
    "Source : Claude 3.7 Sonnet Thinking\n",
    "</pre>"
   ]
  },
  {
   "cell_type": "markdown",
   "metadata": {
    "vscode": {
     "languageId": "plaintext"
    }
   },
   "source": [
    "### Industry Peers\n",
    "- AIA Group Ltd\n",
    "- Manulife Financial Corp\n",
    "- Prudential PLC\n",
    "- Yunfeng Financial Group Ltd\n",
    "- Asia Financial Holdings Ltd\n",
    "- China Taiping Insurance Holdings Co Ltd\n",
    "- Ping An Insurance (Group) Co. of China Ltd\n",
    "- China Pacific Insurance (Group) Co Ltd\n",
    "- China Life Insurance Co Ltd- New China Life Insurance Co Ltd\n",
    "\n",
    "Source: Fundsupermart"
   ]
  },
  {
   "cell_type": "markdown",
   "metadata": {},
   "source": [
    "### Major Business Units and Subsidiaries\n",
    "\n",
    "1. **Ping An Insurance**\n",
    "   - Life insurance\n",
    "   - Property and casualty insurance\n",
    "   - Health insurance\n",
    "\n",
    "2. **Ping An Bank**\n",
    "   - Commercial banking services\n",
    "   - Consumer finance\n",
    "   - Corporate banking\n",
    "\n",
    "3. **Ping An Securities**\n",
    "   - Investment banking\n",
    "   - Brokerage services\n",
    "   - Wealth management\n",
    "\n",
    "4. **Ping An Asset Management**\n",
    "   - Fund management\n",
    "   - Investment solutions\n",
    "   - Asset allocation services\n",
    "\n",
    "5. **Ping An Technology**\n",
    "   - AI research and applications\n",
    "   - Cloud computing\n",
    "   - Blockchain development\n",
    "\n",
    "6. **Ping An Healthcare (Good Doctor)**\n",
    "   - Online medical services\n",
    "   - Health management platform\n",
    "   - Telemedicine\n",
    "\n",
    "7. **Lufax Holding**\n",
    "   - Wealth management platform\n",
    "   - Retail lending\n",
    "\n",
    "8. **OneConnect Financial Technology**\n",
    "   - Fintech solutions for financial institutions\n",
    "   - Blockchain and AI services\n",
    "\n",
    "9. **Autohome**\n",
    "   - Online automobile marketplace\n",
    "   - Car-related content and services\n",
    "\n",
    "10. **Ping An Smart City**\n",
    "    - Urban management solutions\n",
    "    - Government service digitization\n",
    "\n",
    "Source : Claude 3.7 Sonnet Thinking"
   ]
  },
  {
   "cell_type": "code",
   "execution_count": 2,
   "metadata": {},
   "outputs": [
    {
     "name": "stdout",
     "output_type": "stream",
     "text": [
      "Current stock price of Ping An Insurance: 47.75 HKD\n"
     ]
    }
   ],
   "source": [
    "import yfinance as yf\n",
    "\n",
    "# Define the ticker symbol\n",
    "ticker_symbol = '2318.HK'  # Ping An Insurance ticker symbol on the Hong Kong Stock Exchange\n",
    "\n",
    "# Get the stock data\n",
    "ping_an_stock = yf.Ticker(ticker_symbol)\n",
    "\n",
    "# Get the current stock price\n",
    "current_price = ping_an_stock.history(period='1d')['Close'][0]\n",
    "print(f\"Current stock price of Ping An Insurance: {current_price} HKD\")"
   ]
  }
 ],
 "metadata": {
  "kernelspec": {
   "display_name": "openssl",
   "language": "python",
   "name": "python3"
  },
  "language_info": {
   "codemirror_mode": {
    "name": "ipython",
    "version": 3
   },
   "file_extension": ".py",
   "mimetype": "text/x-python",
   "name": "python",
   "nbconvert_exporter": "python",
   "pygments_lexer": "ipython3",
   "version": "3.8.20"
  }
 },
 "nbformat": 4,
 "nbformat_minor": 2
}
