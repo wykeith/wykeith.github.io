{
 "cells": [
  {
   "cell_type": "markdown",
   "metadata": {},
   "source": [
    "## Back from a Hiatus\n",
    "\n",
    "![Zero results: 'snake charming' and 'haberdashery'.  (Things like 'car' and 'boating' and such are of course the highest, by a huge margin][xkcd]\n",
    "\n",
    "1. It has been someime since I've been penning down my thoughts online through formal channels\n",
    "2. Due to many factors from work and family\n",
    "3. I caught up with my high school buddy of 20yrs recently\n",
    "4. He had suggested I start a blog about my experiments & explorations\n",
    "5. After giving much thought and internal struggle, I decided the benefits would still outweight the downsides of blogging down my thoughts. Such as\n",
    "\n",
    "    * Establishing online presence\n",
    "    * Offload my overtaxed braincells\n",
    "    * Sharpen programming & writing skills\n",
    "    * Solicit different perspectives\n",
    "\n",
    "Now to find a way to implement feedback/comments on static github pages\n",
    "\n",
    "Suggestions are [Welcome](mailto:wykeith+blog@gmail.com) !\n",
    "\n",
    "\n",
    "[xkcd]: https://imgs.xkcd.com/comics/dangers.png \"Zero results: 'snake charming' and 'haberdashery'.  (Things like 'car' and 'boating' and such are of course the highest, by a huge margin\""
   ]
  },
  {
   "cell_type": "code",
   "execution_count": 1,
   "metadata": {
    "collapsed": false
   },
   "outputs": [
    {
     "data": {
      "text/plain": [
       "'Sat Feb  4 15:18:43 2017'"
      ]
     },
     "execution_count": 1,
     "metadata": {},
     "output_type": "execute_result"
    }
   ],
   "source": [
    "import time\n",
    "import os\n",
    "os.environ[\"TZ\"]=\"Asia/Singapore\"\n",
    "\n",
    "time.tzset()\n",
    "time.ctime()\n",
    "\n",
    "# Singapore Bugis Mac-donalds"
   ]
  }
 ],
 "metadata": {
  "kernelspec": {
   "display_name": "Python 3",
   "language": "python",
   "name": "python3"
  },
  "language_info": {
   "codemirror_mode": {
    "name": "ipython",
    "version": 3
   },
   "file_extension": ".py",
   "mimetype": "text/x-python",
   "name": "python",
   "nbconvert_exporter": "python",
   "pygments_lexer": "ipython3",
   "version": "3.5.2"
  }
 },
 "nbformat": 4,
 "nbformat_minor": 0
}
