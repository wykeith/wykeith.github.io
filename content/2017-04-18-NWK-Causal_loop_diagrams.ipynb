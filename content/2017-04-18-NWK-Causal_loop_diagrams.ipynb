{
 "cells": [
  {
   "cell_type": "markdown",
   "metadata": {
    "deletable": true,
    "editable": true
   },
   "source": [
    "![Causal loop diagram][loops]\n",
    "\n",
    "1. There is a common saying : the past does not define our future\n",
    "2. Previously I patched together a simple trend analysis model of passenger throughput based on past observations of similar data (to the availability of publicly accessible data) and subsequently projecting them forward into the future with a confidence interval. \n",
    "3. It is an naive assumption that there are no other factors involved, a simplistic understanding of growth.\n",
    "4. In the real world there are numerous complex interacting causes and effects (ie more growth may led to subsequently less growth if not managed well). In order to understand such complex relationships , I shall utilise casual loop diagrams.\n",
    "5. Above shows an initial causal loop sketch for changi airport strung together manually in powerpoint. Blue indicates positive relationships, red implies a inverse relatioship.\n",
    "6. The relationships are subsequently coded into a graph database for my further analysis\n",
    "\n",
    "[loops]: https://wykeith.github.io/images/CL-Slide1.JPG \"Causal loop diagram of Changi Airport\""
   ]
  },
  {
   "cell_type": "code",
   "execution_count": 27,
   "metadata": {
    "collapsed": false,
    "deletable": true,
    "editable": true
   },
   "outputs": [],
   "source": [
    "pos_relationship = [\n",
    "    ['Airport Tax','Infrastructure Investment'],\n",
    "    ['Passenger Volume','Airport Tax'],\n",
    "    ['Infrastructure Investment','Excess Terminal Capacity'],\n",
    "    ['Excess of Demand for Air Travel','Air-ticket Price'],\n",
    "    ['Quality of Service','Air Travel (Demand)'],\n",
    "    ['Local Population','Air Travel (Demand)'],\n",
    "    ['Excess Terminal Capacity','Quality of Service'],\n",
    "    ['Excess Terminal Capacity','Attractiveness of Terminal'],\n",
    "    ['Air Travel (Demand)','Passenger Volume'],\n",
    "    ['Passenger Volume','Airport Tax'],\n",
    "    ['Passenger Volume','Excess of Demand for Air Travel'],\n",
    "    ['Passenger Volume','Growth of Region'],\n",
    "    ['Attractiveness of Terminal','New Entrants'],\n",
    "    ['Air Travel Services (Supply)','Avaliable Destinations'],\n",
    "    ['Avaliable Destinations','Excess of Demand for Air Travel'],\n",
    "    ['Growth of Region','Avaliable Destinations'],\n",
    "    ['New Entrants','Number of Airplanes'],\n",
    "    ['New Entrants','Quality of Service'],\n",
    "    ['Number of Airplanes','Air Travel Services (Supply)']\n",
    "]\n",
    "\n",
    "neg_relationship = [\n",
    "    ['Air-ticket Price','Air Travel (Demand)'],\n",
    "    ['Air Travel Services (Supply)','Excess Terminal Capacity'],\n",
    "    ['Air Travel Services (Supply)','Excess of Demand for Air Travel'],\n",
    "    ['Excess of Demand for Air Travel','Quality of Service']\n",
    "]\n",
    "\n",
    "for relation in pos_relationship:\n",
    "    re = Relationship(Node('item', title=relation[0]), \"S\", Node('item', title=relation[1]), Direction=+1)\n",
    "    graph.merge(re)\n",
    "\n",
    "for relation in neg_relationship:\n",
    "    re = Relationship(Node('item', title=relation[0]), \"O\", Node('item', title=relation[1]), Direction=-1)\n",
    "    graph.merge(re)"
   ]
  },
  {
   "cell_type": "markdown",
   "metadata": {
    "deletable": true,
    "editable": true
   },
   "source": [
    "![Causal loop diagram][neo4j]\n",
    "\n",
    "[neo4j]: https://wykeith.github.io/images/CL-Slide2.JPG \"Causal loop diagram of Changi Airport\""
   ]
  },
  {
   "cell_type": "markdown",
   "metadata": {
    "deletable": true,
    "editable": true
   },
   "source": [
    "## Longest chain in the network\n",
    "![Causal loop diagram][slide3]\n",
    "Just for fun , I wanted to know what is the longest path I can walk, not re-visiting any nodes and arriving back to the same place without changing direction of the relationships. 11 nodes is the longest discovered by the graph query.\n",
    "\n",
    "[slide3]: https://wykeith.github.io/images/CL-Slide3.png \"Longest loop Chain\""
   ]
  },
  {
   "cell_type": "markdown",
   "metadata": {
    "deletable": true,
    "editable": true
   },
   "source": [
    "## Look for a reinforcing or virtuous loop\n",
    "![Causal loop diagram][slide4]\n",
    "\n",
    "When there is an investment in airport infrastucture it leads to increase in airport capacity which then improves services levels. Better service levels brings in more passengers and hence increase in revenue for the airport to improve infrastructure. Improvement in airport infrastructre will also attract new airlines to fly through, this increases competition which will also bring up service levels to attact more customers \n",
    "\n",
    "[slide4]: https://wykeith.github.io/images/CL-Slide4.png \"Virtuous loop Chain\""
   ]
  },
  {
   "cell_type": "markdown",
   "metadata": {
    "deletable": true,
    "editable": true
   },
   "source": [
    "## Then a balancing or vicious loop\n",
    "![Causal loop diagram][slide5]\n",
    "\n",
    "On the other hand , increasing passenger volumes will lead to crowding of the airports bringing down the excess demand for travelling and the lowering of quality of service provided. This provides a counter-balance to the revenue/investment loop above.\n",
    "\n",
    "[slide5]: https://wykeith.github.io/images/CL-Slide5.png \"Vicious loop Chain\""
   ]
  },
  {
   "cell_type": "markdown",
   "metadata": {
    "deletable": true,
    "editable": true
   },
   "source": [
    "## Graph analysis - Centrality\n",
    "\n",
    "Centrality measures give us relative measures of importance in the network. There are many different centrality measures and each measures a different type of “importance. In graph theory, eigenvector centrality (also called eigencentrality) is a measure of the influence of a node in a network. It assigns relative scores to all nodes in the network based on the concept that connections to high-scoring nodes contribute more to the score of the node in question than equal connections to low-scoring nodes."
   ]
  },
  {
   "cell_type": "code",
   "execution_count": 28,
   "metadata": {
    "collapsed": false,
    "deletable": true,
    "editable": true
   },
   "outputs": [],
   "source": [
    "from igraph import Graph as IGraph\n",
    "\n",
    "query = '''\n",
    "MATCH (c1)-[r]->(c2)\n",
    "RETURN ID(c1), ID(c2), r.Direction AS weight\n",
    "'''\n",
    "\n",
    "ig = IGraph.TupleList(graph.run(query), weights=True)"
   ]
  },
  {
   "cell_type": "code",
   "execution_count": 29,
   "metadata": {
    "collapsed": false,
    "deletable": true,
    "editable": true
   },
   "outputs": [
    {
     "data": {
      "text/plain": [
       "<py2neo.database.Cursor at 0x7fccfc042320>"
      ]
     },
     "execution_count": 29,
     "metadata": {},
     "output_type": "execute_result"
    }
   ],
   "source": [
    "#pg = ig.personalized_pagerank(niter=10000)\n",
    "pg = ig.eigenvector_centrality()\n",
    "pgvs = []\n",
    "for p in zip(ig.vs, pg):\n",
    "    pgvs.append({\"ID\": p[0][\"name\"], \"pg\": p[1]})\n",
    "\n",
    "write_clusters_query = '''\n",
    "UNWIND {nodes} AS n\n",
    "MATCH (c) WHERE ID(c) = n.ID\n",
    "SET c.value = n.pg\n",
    "'''\n",
    "\n",
    "graph.run(write_clusters_query, nodes=pgvs)"
   ]
  },
  {
   "cell_type": "markdown",
   "metadata": {
    "deletable": true,
    "editable": true
   },
   "source": [
    "## Important Nodes in our Causal Loops\n",
    "![Causal loop diagram][slide6]\n",
    "[slide6]: https://wykeith.github.io/images/CL-Slide6.png \"Centrai\""
   ]
  },
  {
   "cell_type": "code",
   "execution_count": 9,
   "metadata": {
    "collapsed": false,
    "deletable": true,
    "editable": true
   },
   "outputs": [
    {
     "data": {
      "image/png": "[encoded data removed]",
      "text/plain": [
       "<matplotlib.figure.Figure at 0x7fe275691b70>"
      ]
     },
     "metadata": {},
     "output_type": "display_data"
    }
   ],
   "source": [
    "# Bar chart to compare the relative importance of each node\n",
    "query = \"MATCH (a) RETURN a.title AS title, a.value AS value\"\n",
    "df = pd.DataFrame(graph.data(query))\n",
    "\n",
    "fig = plt.figure()\n",
    "ax = fig.add_subplot(111)\n",
    "df.sort_values(by='value', inplace=True)\n",
    "df.set_index('title').value.plot(kind='barh')\n",
    "ax.set_ylabel('')\n",
    "ax.set_xlabel('Centrality Values')\n",
    "ax.set_title('Ranking of Factors')\n",
    "plt.show()"
   ]
  },
  {
   "cell_type": "markdown",
   "metadata": {
    "deletable": true,
    "editable": true
   },
   "source": [
    "### Notes:\n",
    "\n",
    "1. Pertaining to the development of airports , this model shows the most important factors that can influence our planning.\n",
    "2. It seems that local population is not a key dominant determinant in airport planning , due to it's limited relationship with the other factors. If I create more links to the other nodes , then it's centrality value or importance will increase.\n",
    "3. Casual Loops can help us to identify systemic risks or unintended effects, ie the reinforcing loop and balancing loops both impacting capacity and quality of service differently\n",
    "4. Quantitative econometric models can then be built based on these diagrams, which I hope to explore futher."
   ]
  },
  {
   "cell_type": "code",
   "execution_count": null,
   "metadata": {
    "collapsed": true,
    "deletable": true,
    "editable": true
   },
   "outputs": [],
   "source": []
  }
 ],
 "metadata": {
  "kernelspec": {
   "display_name": "Python 3",
   "language": "python",
   "name": "python3"
  },
  "language_info": {
   "codemirror_mode": {
    "name": "ipython",
    "version": 3
   },
   "file_extension": ".py",
   "mimetype": "text/x-python",
   "name": "python",
   "nbconvert_exporter": "python",
   "pygments_lexer": "ipython3",
   "version": "3.5.2"
  }
 },
 "nbformat": 4,
 "nbformat_minor": 2
}
